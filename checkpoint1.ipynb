{
 "cells": [
  {
   "cell_type": "code",
   "execution_count": 34,
   "id": "956c4a45-9e08-42e4-9efc-3aeabde85d41",
   "metadata": {},
   "outputs": [
    {
     "name": "stdin",
     "output_type": "stream",
     "text": [
      " mehdi\n"
     ]
    }
   ],
   "source": [
    "#exercice1\n",
    "\n",
    "name=input()"
   ]
  },
  {
   "cell_type": "code",
   "execution_count": 35,
   "id": "5a7ac419-a178-4846-befd-320256e9956d",
   "metadata": {},
   "outputs": [
    {
     "name": "stdin",
     "output_type": "stream",
     "text": [
      " sahnoun\n"
     ]
    }
   ],
   "source": [
    "prenom=input()"
   ]
  },
  {
   "cell_type": "code",
   "execution_count": 38,
   "id": "21c0cf73-e4db-4c9c-8899-3b314f027738",
   "metadata": {},
   "outputs": [
    {
     "name": "stdout",
     "output_type": "stream",
     "text": [
      "sahnoun *** mehdi\n"
     ]
    }
   ],
   "source": [
    "print(prenom +' *** '+name)"
   ]
  },
  {
   "cell_type": "code",
   "execution_count": 49,
   "id": "8d8bec40-efbd-47d6-801a-db33a9daf45e",
   "metadata": {},
   "outputs": [
    {
     "name": "stdin",
     "output_type": "stream",
     "text": [
      " 5\n"
     ]
    }
   ],
   "source": [
    "#exercice2\n",
    "n=int(input())"
   ]
  },
  {
   "cell_type": "code",
   "execution_count": 54,
   "id": "faa3a865-a0ee-4da7-b689-aa80fd4a373b",
   "metadata": {},
   "outputs": [
    {
     "data": {
      "text/plain": [
       "int"
      ]
     },
     "execution_count": 54,
     "metadata": {},
     "output_type": "execute_result"
    }
   ],
   "source": [
    "type(n)"
   ]
  },
  {
   "cell_type": "code",
   "execution_count": 61,
   "id": "6442c514-a85f-4b02-b80d-08758cf95399",
   "metadata": {},
   "outputs": [
    {
     "name": "stdout",
     "output_type": "stream",
     "text": [
      "615\n"
     ]
    }
   ],
   "source": [
    "print(n+n*11+n*111)"
   ]
  },
  {
   "cell_type": "code",
   "execution_count": 90,
   "id": "1c2d7109-7c16-4551-86aa-c70c184b7bad",
   "metadata": {},
   "outputs": [],
   "source": [
    "#exercice3\n"
   ]
  },
  {
   "cell_type": "code",
   "execution_count": 79,
   "id": "708dde72-0855-489c-a2fb-cb2e99e007ed",
   "metadata": {},
   "outputs": [
    {
     "name": "stdin",
     "output_type": "stream",
     "text": [
      " 4\n"
     ]
    },
    {
     "name": "stdout",
     "output_type": "stream",
     "text": [
      "even\n"
     ]
    }
   ],
   "source": [
    "a=int(input())\n",
    "if a % 2==0:\n",
    "     print(\"even\")\n",
    "else :\n",
    "    print(\"odd\")\n"
   ]
  },
  {
   "cell_type": "code",
   "execution_count": 93,
   "id": "c5f70005-3ccc-4fd6-bedd-57ef4d9b7580",
   "metadata": {},
   "outputs": [
    {
     "name": "stdout",
     "output_type": "stream",
     "text": [
      "2002,2009,2016,2023,2037,2044,2051,2058,2072,2079,2086,2093,2107,2114,2121,2128,2142,2149,2156,2163,2177,2184,2191,2198,2212,2219,2226,2233,2247,2254,2261,2268,2282,2289,2296,2303,2317,2324,2331,2338,2352,2359,2366,2373,2387,2394,2401,2408,2422,2429,2436,2443,2457,2464,2471,2478,2492,2499,2506,2513,2527,2534,2541,2548,2562,2569,2576,2583,2597,2604,2611,2618,2632,2639,2646,2653,2667,2674,2681,2688,2702,2709,2716,2723,2737,2744,2751,2758,2772,2779,2786,2793,2807,2814,2821,2828,2842,2849,2856,2863,2877,2884,2891,2898,2912,2919,2926,2933,2947,2954,2961,2968,2982,2989,2996,3003,3017,3024,3031,3038,3052,3059,3066,3073,3087,3094,3101,3108,3122,3129,3136,3143,3157,3164,3171,3178,3192,3199,"
     ]
    }
   ],
   "source": [
    "#exercice4\n",
    "for i in range(2000,3200):\n",
    "     if i % 7==0 and i % 5!=0:\n",
    "        print(i,end=(','))"
   ]
  },
  {
   "cell_type": "code",
   "execution_count": 95,
   "id": "4f183dcf-840f-475b-b7bb-e505ba2e27c9",
   "metadata": {},
   "outputs": [],
   "source": [
    "\n",
    "#exercice6\n",
    "a=\"hello team\""
   ]
  },
  {
   "cell_type": "code",
   "execution_count": 96,
   "id": "8fbb42ff-5664-440a-95ae-da5156ca40e1",
   "metadata": {},
   "outputs": [
    {
     "data": {
      "text/plain": [
       "10"
      ]
     },
     "execution_count": 96,
     "metadata": {},
     "output_type": "execute_result"
    }
   ],
   "source": [
    "len(a)"
   ]
  },
  {
   "cell_type": "code",
   "execution_count": 109,
   "id": "9461fca7-1d13-4e3b-8e00-f9900733e76c",
   "metadata": {},
   "outputs": [
    {
     "name": "stdout",
     "output_type": "stream",
     "text": [
      "hlota\n"
     ]
    }
   ],
   "source": [
    "b=''\n",
    "for i in range (len(a)):\n",
    "    if i % 2==0:\n",
    "        b=b+a[i]\n",
    "print(b)"
   ]
  },
  {
   "cell_type": "code",
   "execution_count": 120,
   "id": "69f876ae-1d2c-4640-ab27-271f807b3e3c",
   "metadata": {},
   "outputs": [
    {
     "name": "stdin",
     "output_type": "stream",
     "text": [
      " 1000\n"
     ]
    },
    {
     "name": "stdout",
     "output_type": "stream",
     "text": [
      "500\n"
     ]
    }
   ],
   "source": [
    "#exercice7\n",
    "a=int(input())\n",
    "if a >= 500:\n",
    "     print(a-(a*50)//100)\n",
    "elif a <500 and a > 200:\n",
    "     print(a-(a*30)//100)\n",
    "elif a < 200:\n",
    "    print(a+(a*10)//100)\n"
   ]
  },
  {
   "cell_type": "code",
   "execution_count": null,
   "id": "42ea2e51-49d0-4f2e-8c78-d60cdbbe2e74",
   "metadata": {},
   "outputs": [],
   "source": []
  }
 ],
 "metadata": {
  "kernelspec": {
   "display_name": "Python 3",
   "language": "python",
   "name": "python3"
  },
  "language_info": {
   "codemirror_mode": {
    "name": "ipython",
    "version": 3
   },
   "file_extension": ".py",
   "mimetype": "text/x-python",
   "name": "python",
   "nbconvert_exporter": "python",
   "pygments_lexer": "ipython3",
   "version": "3.8.8"
  }
 },
 "nbformat": 4,
 "nbformat_minor": 5
}
